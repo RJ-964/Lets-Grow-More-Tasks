{
 "cells": [
  {
   "cell_type": "markdown",
   "id": "44d88096",
   "metadata": {},
   "source": [
    "Project Name : Conversion of  RGB Image to Pencil Sketch Image\n",
    "\n",
    "Input : Jpg/Png File \n",
    "\n",
    "Output : Sketch Image\n",
    "          "
   ]
  },
  {
   "cell_type": "code",
   "execution_count": 1,
   "id": "fcce730b",
   "metadata": {},
   "outputs": [],
   "source": [
    "import cv2"
   ]
  },
  {
   "cell_type": "code",
   "execution_count": 2,
   "id": "35c50237",
   "metadata": {},
   "outputs": [],
   "source": [
    "image = cv2.imread(\"Virat Kohli.jpg\")"
   ]
  },
  {
   "cell_type": "code",
   "execution_count": 3,
   "id": "bdcc60dc",
   "metadata": {},
   "outputs": [
    {
     "name": "stdout",
     "output_type": "stream",
     "text": [
      "[[[17 19 73]\n",
      "  [17 19 73]\n",
      "  [16 18 72]\n",
      "  ...\n",
      "  [56 37 30]\n",
      "  [56 34 28]\n",
      "  [55 33 27]]\n",
      "\n",
      " [[17 19 73]\n",
      "  [17 19 73]\n",
      "  [16 18 72]\n",
      "  ...\n",
      "  [55 36 29]\n",
      "  [56 34 28]\n",
      "  [54 32 26]]\n",
      "\n",
      " [[17 21 74]\n",
      "  [16 20 73]\n",
      "  [16 18 72]\n",
      "  ...\n",
      "  [56 37 30]\n",
      "  [56 34 28]\n",
      "  [54 32 26]]\n",
      "\n",
      " ...\n",
      "\n",
      " [[65 51 63]\n",
      "  [65 51 63]\n",
      "  [65 51 63]\n",
      "  ...\n",
      "  [27 29 30]\n",
      "  [27 29 30]\n",
      "  [27 29 30]]\n",
      "\n",
      " [[63 49 61]\n",
      "  [63 49 61]\n",
      "  [62 50 62]\n",
      "  ...\n",
      "  [27 29 30]\n",
      "  [27 29 30]\n",
      "  [28 30 31]]\n",
      "\n",
      " [[62 48 60]\n",
      "  [62 48 60]\n",
      "  [61 49 61]\n",
      "  ...\n",
      "  [27 29 30]\n",
      "  [28 30 31]\n",
      "  [28 30 31]]]\n"
     ]
    }
   ],
   "source": [
    "print(image)"
   ]
  },
  {
   "cell_type": "code",
   "execution_count": 4,
   "id": "42fe39f5",
   "metadata": {},
   "outputs": [],
   "source": [
    "gray_jpg = cv2.cvtColor(image,cv2.COLOR_BGR2GRAY)"
   ]
  },
  {
   "cell_type": "code",
   "execution_count": 6,
   "id": "797dc49d",
   "metadata": {},
   "outputs": [],
   "source": [
    "invert = cv2.bitwise_not(gray_jpg)"
   ]
  },
  {
   "cell_type": "code",
   "execution_count": 7,
   "id": "0fe9d553",
   "metadata": {},
   "outputs": [],
   "source": [
    "blur = cv2.GaussianBlur(invert,(21,21),0)"
   ]
  },
  {
   "cell_type": "code",
   "execution_count": 9,
   "id": "b464cd95",
   "metadata": {},
   "outputs": [],
   "source": [
    "inverted_blur = cv2.bitwise_not(blur)"
   ]
  },
  {
   "cell_type": "code",
   "execution_count": 10,
   "id": "9b55c3a9",
   "metadata": {},
   "outputs": [],
   "source": [
    "sketch = cv2.divide(gray_jpg,inverted_blur,scale =256.0)"
   ]
  },
  {
   "cell_type": "code",
   "execution_count": 11,
   "id": "dbbdf201",
   "metadata": {},
   "outputs": [
    {
     "data": {
      "text/plain": [
       "True"
      ]
     },
     "execution_count": 11,
     "metadata": {},
     "output_type": "execute_result"
    }
   ],
   "source": [
    "cv2.imwrite(\"sketch.png\",sketch)"
   ]
  },
  {
   "cell_type": "code",
   "execution_count": null,
   "id": "01eb4319",
   "metadata": {},
   "outputs": [],
   "source": []
  }
 ],
 "metadata": {
  "kernelspec": {
   "display_name": "Python 3 (ipykernel)",
   "language": "python",
   "name": "python3"
  },
  "language_info": {
   "codemirror_mode": {
    "name": "ipython",
    "version": 3
   },
   "file_extension": ".py",
   "mimetype": "text/x-python",
   "name": "python",
   "nbconvert_exporter": "python",
   "pygments_lexer": "ipython3",
   "version": "3.10.7"
  }
 },
 "nbformat": 4,
 "nbformat_minor": 5
}
